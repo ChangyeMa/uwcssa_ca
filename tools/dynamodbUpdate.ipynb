{
 "cells": [
  {
   "cell_type": "code",
   "execution_count": 8,
   "metadata": {},
   "outputs": [],
   "source": [
    "import pandas as pd\n",
    "import boto3\n",
    "from botocore.config import Config\n",
    "import os\n",
    "from faker import Faker\n",
    "from dotenv import load_dotenv\n",
    "load_dotenv()\n",
    "from datetime import datetime\n",
    "import numpy as np\n",
    "fake = Faker(['it_IT', 'en_US', 'ja_JP','zh_CN','zh_TW'])"
   ]
  },
  {
   "cell_type": "code",
   "execution_count": 9,
   "metadata": {},
   "outputs": [],
   "source": [
    "my_config = Config(\n",
    "    region_name = 'us-east-2',\n",
    "    signature_version = 'v4',\n",
    "    retries = {\n",
    "        'max_attempts': 10,\n",
    "        'mode': 'standard'\n",
    "    }\n",
    ")"
   ]
  },
  {
   "cell_type": "code",
   "execution_count": 28,
   "metadata": {},
   "outputs": [],
   "source": [
    "dynamodb_client = boto3.resource(\n",
    "    'dynamodb',\n",
    "    aws_access_key_id=os.getenv('AWSAccessKeyId'),\n",
    "    aws_secret_access_key=os.getenv('AWSSecretKey'),\n",
    "    config=my_config)"
   ]
  },
  {
   "cell_type": "code",
   "execution_count": 23,
   "metadata": {},
   "outputs": [
    {
     "name": "stdout",
     "output_type": "stream",
     "text": [
      "[dynamodb.Table(name='Address-4r2t6l2uprdgjhmoocpazejjcq-devts'), dynamodb.Table(name='Address-6hj4ht7unzduphcdran4ogs2za-master'), dynamodb.Table(name='Address-ooc7vvqq6jgrbhbybwrqn7njxy-develop'), dynamodb.Table(name='Article-4r2t6l2uprdgjhmoocpazejjcq-devts'), dynamodb.Table(name='Article-6hj4ht7unzduphcdran4ogs2za-master'), dynamodb.Table(name='Article-ooc7vvqq6jgrbhbybwrqn7njxy-develop'), dynamodb.Table(name='ArticleTags-4r2t6l2uprdgjhmoocpazejjcq-devts'), dynamodb.Table(name='Comment-4r2t6l2uprdgjhmoocpazejjcq-devts'), dynamodb.Table(name='Comment-6hj4ht7unzduphcdran4ogs2za-master'), dynamodb.Table(name='Comment-ooc7vvqq6jgrbhbybwrqn7njxy-develop')]\n"
     ]
    }
   ],
   "source": [
    "all_tables=dynamodb_client.tables.all()\n",
    "print(list(all_tables)[0:10])"
   ]
  },
  {
   "cell_type": "code",
   "execution_count": 31,
   "metadata": {},
   "outputs": [],
   "source": [
    "userProfileTable=dynamodb_client.Table('UserProfile-4r2t6l2uprdgjhmoocpazejjcq-devts')\n",
    "userTable=dynamodb_client.Table('User-4r2t6l2uprdgjhmoocpazejjcq-devts')"
   ]
  },
  {
   "cell_type": "code",
   "execution_count": 36,
   "metadata": {},
   "outputs": [
    {
     "data": {
      "text/plain": [
       "[{'__typename': 'User',\n",
       "  'updatedAt': '2022-05-25T01:37:42.833Z',\n",
       "  'userName': 'google_115756474112262128383',\n",
       "  'createdAt': '2022-05-25T01:37:42.833Z',\n",
       "  'owner': 'google_115756474112262128383',\n",
       "  'id': 'google_115756474112262128383',\n",
       "  'email': 'shikaijin7@gmail.com',\n",
       "  'name': 'Zoe Jin'},\n",
       " {'__typename': 'User',\n",
       "  'updatedAt': '2022-05-24T03:02:38.544Z',\n",
       "  'userName': 'd89aeb6f-1172-43a9-b78e-5a0eb7101e98',\n",
       "  'createdAt': '2022-05-24T03:02:38.544Z',\n",
       "  'owner': 'd89aeb6f-1172-43a9-b78e-5a0eb7101e98',\n",
       "  'id': 'd89aeb6f-1172-43a9-b78e-5a0eb7101e98',\n",
       "  'email': 'shen.shu@hivemedia.com',\n",
       "  'name': 'sshive'},\n",
       " {'__typename': 'User',\n",
       "  'updatedAt': '2022-05-21T15:20:35.271Z',\n",
       "  'userName': 'dc3611f8-4973-4a8d-9cee-1c9afcf50bed',\n",
       "  'createdAt': '2022-05-21T15:20:35.271Z',\n",
       "  'owner': 'dc3611f8-4973-4a8d-9cee-1c9afcf50bed',\n",
       "  'id': 'dc3611f8-4973-4a8d-9cee-1c9afcf50bed',\n",
       "  'email': 'jiaxiu_li@126.com',\n",
       "  'name': 'lijiaxiu'},\n",
       " {'__typename': 'User',\n",
       "  'updatedAt': '2022-05-25T01:20:04.852Z',\n",
       "  'userName': 'd77b094c-93a9-40da-9274-b133ce9212d1',\n",
       "  'createdAt': '2022-05-25T01:20:04.852Z',\n",
       "  'owner': 'd77b094c-93a9-40da-9274-b133ce9212d1',\n",
       "  'id': 'd77b094c-93a9-40da-9274-b133ce9212d1',\n",
       "  'email': 'shikaijin7@gmail.com',\n",
       "  'name': 'shikaijin'},\n",
       " {'__typename': 'User',\n",
       "  'updatedAt': '2022-05-28T03:05:08.109Z',\n",
       "  'userName': 'google_100671951180318399051',\n",
       "  'createdAt': '2022-05-28T03:05:08.109Z',\n",
       "  'owner': 'google_100671951180318399051',\n",
       "  'id': 'google_100671951180318399051',\n",
       "  'email': 'zoejinmessiah@gmail.com',\n",
       "  'name': 'Shikai Zoe Jin'},\n",
       " {'__typename': 'User',\n",
       "  'updatedAt': '2022-05-23T04:15:44.435Z',\n",
       "  'userName': '6a0cba8e-aa9f-4991-b6df-5f4a7b73cf61',\n",
       "  'createdAt': '2022-05-23T04:15:44.435Z',\n",
       "  'owner': '6a0cba8e-aa9f-4991-b6df-5f4a7b73cf61',\n",
       "  'id': '6a0cba8e-aa9f-4991-b6df-5f4a7b73cf61',\n",
       "  'email': 'shushengacademy@gmail.com',\n",
       "  'name': 'shushengacademy'},\n",
       " {'__typename': 'User',\n",
       "  'updatedAt': '2022-05-21T05:36:05.799Z',\n",
       "  'userName': 'google_112290784224661587256',\n",
       "  'createdAt': '2022-05-21T05:36:05.799Z',\n",
       "  'owner': 'google_112290784224661587256',\n",
       "  'id': 'google_112290784224661587256',\n",
       "  'email': 'shushen2013@gmail.com',\n",
       "  'name': 'Shen Shu'},\n",
       " {'__typename': 'User',\n",
       "  'updatedAt': '2022-05-20T04:06:48.720Z',\n",
       "  'userName': 'd1f0729b-b5d6-4d7c-b3dd-36c17b1a1d44',\n",
       "  'createdAt': '2022-05-20T04:06:48.720Z',\n",
       "  'owner': 'd1f0729b-b5d6-4d7c-b3dd-36c17b1a1d44',\n",
       "  'id': 'd1f0729b-b5d6-4d7c-b3dd-36c17b1a1d44',\n",
       "  'email': 'shushen2013@gmail.com',\n",
       "  'name': 'Hodson'},\n",
       " {'__typename': 'User',\n",
       "  'updatedAt': '2022-05-29T20:00:55.660Z',\n",
       "  'userName': 'google_117815459049797060191',\n",
       "  'createdAt': '2022-05-29T20:00:55.660Z',\n",
       "  'owner': 'google_117815459049797060191',\n",
       "  'id': 'google_117815459049797060191',\n",
       "  'email': 'uwincssa.it@gmail.com',\n",
       "  'name': 'Uwcssa It'}]"
      ]
     },
     "execution_count": 36,
     "metadata": {},
     "output_type": "execute_result"
    }
   ],
   "source": [
    "userItemList=userTable.scan()['Items']\n",
    "userItemList"
   ]
  },
  {
   "cell_type": "code",
   "execution_count": 37,
   "metadata": {},
   "outputs": [
    {
     "data": {
      "text/plain": [
       "[{'__typename': 'UserProfile',\n",
       "  'updatedAt': '2022-05-25T01:37:42.833Z',\n",
       "  'createdAt': '2022-05-25T01:37:42.833Z',\n",
       "  'owner': 'google_115756474112262128383',\n",
       "  'id': 'google_115756474112262128383',\n",
       "  'name': 'Zoe Jin'},\n",
       " {'__typename': 'UserProfile',\n",
       "  'updatedAt': '2022-05-24T03:02:38.544Z',\n",
       "  'createdAt': '2022-05-24T03:02:38.544Z',\n",
       "  'owner': 'd89aeb6f-1172-43a9-b78e-5a0eb7101e98',\n",
       "  'id': 'd89aeb6f-1172-43a9-b78e-5a0eb7101e98',\n",
       "  'name': 'sshive'},\n",
       " {'__typename': 'UserProfile',\n",
       "  'updatedAt': '2022-05-21T15:20:35.271Z',\n",
       "  'avatarURL': 'https://uwcssabucket145628-develop.s3.us-east-2.amazonaws.com/public/lijiaxiu.png',\n",
       "  'createdAt': '2022-05-21T15:20:35.271Z',\n",
       "  'owner': 'dc3611f8-4973-4a8d-9cee-1c9afcf50bed',\n",
       "  'id': 'dc3611f8-4973-4a8d-9cee-1c9afcf50bed',\n",
       "  'name': 'lijiaxiu'},\n",
       " {'__typename': 'UserProfile',\n",
       "  'updatedAt': '2022-05-25T01:20:04.852Z',\n",
       "  'createdAt': '2022-05-25T01:20:04.852Z',\n",
       "  'owner': 'd77b094c-93a9-40da-9274-b133ce9212d1',\n",
       "  'id': 'd77b094c-93a9-40da-9274-b133ce9212d1',\n",
       "  'name': 'shikaijin'},\n",
       " {'__typename': 'UserProfile',\n",
       "  'updatedAt': '2022-05-29T02:40:46.395Z',\n",
       "  'avatarURL': 'https://www.planetware.com/wpimages/2020/02/france-in-pictures-beautiful-places-to-photograph-eiffel-tower.jpg',\n",
       "  'createdAt': '2022-05-28T03:05:08.109Z',\n",
       "  'owner': 'google_100671951180318399051',\n",
       "  'id': 'google_100671951180318399051',\n",
       "  'name': 'Shikai Zoe Jin'},\n",
       " {'__typename': 'UserProfile',\n",
       "  'updatedAt': '2022-05-23T04:15:44.435Z',\n",
       "  'createdAt': '2022-05-23T04:15:44.435Z',\n",
       "  'owner': '6a0cba8e-aa9f-4991-b6df-5f4a7b73cf61',\n",
       "  'id': '6a0cba8e-aa9f-4991-b6df-5f4a7b73cf61',\n",
       "  'name': 'shushengacademy'},\n",
       " {'__typename': 'UserProfile',\n",
       "  'contactEmail': 'hodson2003@qq.com',\n",
       "  'about': 'jkdfjskldf',\n",
       "  'updatedAt': '2022-05-29T04:57:04.348Z',\n",
       "  'createdAt': '2022-05-21T05:36:05.799Z',\n",
       "  'owner': 'google_112290784224661587256',\n",
       "  'fullName': 'sdfsdfkjlk',\n",
       "  'id': 'google_112290784224661587256',\n",
       "  'name': 'Shen Shu',\n",
       "  'title': 'cffff'},\n",
       " {'__typename': 'UserProfile',\n",
       "  'contactEmail': 'shushen2013@gmail.com',\n",
       "  'website': 'https://www.linkedin.com/in/shenshu/',\n",
       "  'avatarURL': 'https://uwcssabucket145628-develop.s3.us-east-2.amazonaws.com/public/user/Avatar/0ae88cff-fa3b-4ff7-81c6-fb36fa7cbcde.jpeg',\n",
       "  'createdAt': '2022-05-20T04:06:48.720Z',\n",
       "  'fullName': 'Shen Shu666',\n",
       "  'name': 'Hodson',\n",
       "  'about': 'Develop and maintain ETL processes for in-house data management infrastructure using tools like SQL, Snowflake, Python, AWS to manage very large volumes of data.\\nMaintain and develop data workflows, internal process improvements, and optimize data deliverability.\\nWork cross-functionally with other teams to assist with data-related technical issues within our database ecosystem.\\nResolve complex data design issues & provide solutions that meet business requirements and benefits system performance.\\nAssist Analytics teams with query & storage optimization efforts.',\n",
       "  'updatedAt': '2022-05-29T06:26:05.309Z',\n",
       "  'owner': 'd1f0729b-b5d6-4d7c-b3dd-36c17b1a1d44',\n",
       "  'id': 'd1f0729b-b5d6-4d7c-b3dd-36c17b1a1d44',\n",
       "  'title': 'Data Engineer'},\n",
       " {'__typename': 'UserProfile',\n",
       "  'updatedAt': '2022-05-29T20:00:55.660Z',\n",
       "  'createdAt': '2022-05-29T20:00:55.660Z',\n",
       "  'owner': 'google_117815459049797060191',\n",
       "  'id': 'google_117815459049797060191',\n",
       "  'email': 'uwincssa.it@gmail.com',\n",
       "  'name': 'Uwcssa It'}]"
      ]
     },
     "execution_count": 37,
     "metadata": {},
     "output_type": "execute_result"
    }
   ],
   "source": [
    "userProfileItemList=userProfileTable.scan()['Items']\n",
    "userProfileItemList"
   ]
  },
  {
   "cell_type": "code",
   "execution_count": 41,
   "metadata": {},
   "outputs": [],
   "source": [
    "for i in userItemList:\n",
    "    for j in userProfileItemList:\n",
    "        if i['id']==j['id']:\n",
    "            j['email']=i['email']\n",
    "            break"
   ]
  },
  {
   "cell_type": "code",
   "execution_count": 43,
   "metadata": {},
   "outputs": [],
   "source": [
    "for i in userProfileItemList:\n",
    "    response= userProfileTable.put_item(Item=i)"
   ]
  },
  {
   "cell_type": "code",
   "execution_count": 45,
   "metadata": {},
   "outputs": [],
   "source": [
    "for i in userProfileItemList:\n",
    "    i['active']='T'\n",
    "    "
   ]
  },
  {
   "cell_type": "code",
   "execution_count": 46,
   "metadata": {},
   "outputs": [],
   "source": [
    "for i in userProfileItemList:\n",
    "    response= userProfileTable.put_item(Item=i)"
   ]
  }
 ],
 "metadata": {
  "interpreter": {
   "hash": "ed47d76093b973379745b938251ba23a55d95f71b829666ebcf986be48a7a88a"
  },
  "kernelspec": {
   "display_name": "Python 3.8.10 ('venv': venv)",
   "language": "python",
   "name": "python3"
  },
  "language_info": {
   "codemirror_mode": {
    "name": "ipython",
    "version": 3
   },
   "file_extension": ".py",
   "mimetype": "text/x-python",
   "name": "python",
   "nbconvert_exporter": "python",
   "pygments_lexer": "ipython3",
   "version": "3.8.10"
  },
  "orig_nbformat": 4
 },
 "nbformat": 4,
 "nbformat_minor": 2
}
